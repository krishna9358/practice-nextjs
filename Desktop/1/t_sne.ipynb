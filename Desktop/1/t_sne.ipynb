{
  "nbformat": 4,
  "nbformat_minor": 0,
  "metadata": {
    "colab": {
      "name": "t_sne.ipynb",
      "provenance": [],
      "collapsed_sections": []
    },
    "kernelspec": {
      "name": "python3",
      "display_name": "Python 3"
    },
    "accelerator": "GPU"
  },
  "cells": [
    {
      "cell_type": "code",
      "metadata": {
        "colab": {
          "base_uri": "https://localhost:8080/"
        },
        "id": "NCXuFVnFdIrK",
        "outputId": "48c97ea4-5757-47b2-c023-b22a46242a1d"
      },
      "source": [
        "from google.colab import drive\n",
        "drive.mount('/content/drive')"
      ],
      "execution_count": 70,
      "outputs": [
        {
          "output_type": "stream",
          "text": [
            "Drive already mounted at /content/drive; to attempt to forcibly remount, call drive.mount(\"/content/drive\", force_remount=True).\n"
          ],
          "name": "stdout"
        }
      ]
    },
    {
      "cell_type": "code",
      "metadata": {
        "id": "KMvO6ytNa2zI"
      },
      "source": [
        "%matplotlib inline\n",
        "import os\n",
        "import matplotlib\n",
        "import matplotlib.pyplot as plt\n",
        "from matplotlib.offsetbox import OffsetImage, AnnotationBbox\n",
        "import cv2\n",
        "import numpy as np\n",
        "from glob import glob\n",
        "import matplotlib.cm as cm\n",
        "from sklearn.decomposition import PCA\n",
        "from sklearn.manifold import TSNE\n",
        "from sklearn.preprocessing import StandardScaler"
      ],
      "execution_count": 71,
      "outputs": []
    },
    {
      "cell_type": "code",
      "metadata": {
        "id": "Xphk-oHFcL-L"
      },
      "source": [
        "BASE_DATA_FOLDER = \"/content\"\n",
        "TRAIN_DATA_FOLDER = os.path.join(BASE_DATA_FOLDER, \"/content/drive/MyDrive/t_sne/cercospora\")"
      ],
      "execution_count": 168,
      "outputs": []
    },
    {
      "cell_type": "code",
      "metadata": {
        "id": "Syo9VUYjcOJx"
      },
      "source": [
        "def create_mask_for_plant(image):\n",
        "    image_hsv = cv2.cvtColor(image, cv2.COLOR_BGR2HSV)\n",
        "\n",
        "    sensitivity = 35\n",
        "    lower_hsv = np.array([60 - sensitivity, 100, 50])\n",
        "    upper_hsv = np.array([60 + sensitivity, 255, 255])\n",
        "\n",
        "    mask = cv2.inRange(image_hsv, lower_hsv, upper_hsv)\n",
        "    kernel = cv2.getStructuringElement(cv2.MORPH_ELLIPSE, (11,11))\n",
        "    mask = cv2.morphologyEx(mask, cv2.MORPH_CLOSE, kernel)\n",
        "    \n",
        "    return mask\n",
        "\n",
        "def segment_plant(image):\n",
        "    mask = create_mask_for_plant(image)\n",
        "    output = cv2.bitwise_and(image, image, mask = mask)\n",
        "    return output"
      ],
      "execution_count": 169,
      "outputs": []
    },
    {
      "cell_type": "code",
      "metadata": {
        "id": "mI1xxr8dcQYb"
      },
      "source": [
        "def visualize_scatter_with_images(X_2d_data, images, figsize=(15,15), image_zoom=1):\n",
        "    fig, ax = plt.subplots(figsize=figsize)\n",
        "    artists = []\n",
        "    for xy, i in zip(X_2d_data, images):\n",
        "        x0, y0 = xy\n",
        "        img = OffsetImage(i, zoom=image_zoom)\n",
        "        ab = AnnotationBbox(img, (x0, y0), xycoords='data', frameon=False)\n",
        "        artists.append(ax.add_artist(ab))\n",
        "    ax.update_datalim(X_2d_data)\n",
        "    ax.autoscale()\n",
        "    plt.show()"
      ],
      "execution_count": 170,
      "outputs": []
    },
    {
      "cell_type": "code",
      "metadata": {
        "id": "e0zhdDGBcSyw"
      },
      "source": [
        "def visualize_scatter(data_2d, label_ids, figsize=(15,15)):\n",
        "    plt.figure(figsize=figsize)\n",
        "    plt.grid()\n",
        "    \n",
        "    nb_classes = len(np.unique(label_ids))\n",
        "    \n",
        "    for label_id in np.unique(label_ids):\n",
        "        plt.scatter(data_2d[np.where(label_ids == label_id), 0],\n",
        "                    data_2d[np.where(label_ids == label_id), 1],\n",
        "                    marker='o',\n",
        "                    color= plt.cm.Set1(label_id / float(nb_classes)),\n",
        "                    linewidth='1',\n",
        "                    alpha=0.8,\n",
        "                    label=id_to_label_dict[label_id])\n",
        "    plt.legend(loc='best')"
      ],
      "execution_count": 171,
      "outputs": []
    },
    {
      "cell_type": "code",
      "metadata": {
        "id": "UjIRJJdkcWcP"
      },
      "source": [
        "images = []\n",
        "labels = []\n",
        "\n",
        "for class_folder_name in os.listdir(TRAIN_DATA_FOLDER):\n",
        "    class_folder_path = os.path.join(TRAIN_DATA_FOLDER, class_folder_name)\n",
        "    for image_path in glob(os.path.join(class_folder_path, \"*.jpg\")):\n",
        "        image = cv2.imread(image_path, cv2.IMREAD_COLOR)\n",
        "        \n",
        "        image = cv2.resize(image, (150, 150))\n",
        "        image = segment_plant(image)\n",
        "        image = cv2.cvtColor(image, cv2.COLOR_BGR2GRAY)\n",
        "        image = cv2.resize(image, (45,45))\n",
        "        \n",
        "        image = image.flatten()\n",
        "        \n",
        "        images.append(image)\n",
        "        labels.append(class_folder_name)\n",
        "        \n",
        "images = np.array(images)\n",
        "labels = np.array(labels)"
      ],
      "execution_count": 172,
      "outputs": []
    },
    {
      "cell_type": "code",
      "metadata": {
        "colab": {
          "base_uri": "https://localhost:8080/"
        },
        "id": "zYxazxWjMp7z",
        "outputId": "8fdef676-c508-4af9-f463-5ca55275e974"
      },
      "source": [
        "images.size"
      ],
      "execution_count": 173,
      "outputs": [
        {
          "output_type": "execute_result",
          "data": {
            "text/plain": [
              "810000"
            ]
          },
          "metadata": {
            "tags": []
          },
          "execution_count": 173
        }
      ]
    },
    {
      "cell_type": "code",
      "metadata": {
        "id": "8KvcxGvmcYou"
      },
      "source": [
        "label_to_id_dict = {v:i for i,v in enumerate(np.unique(labels))}\n",
        "id_to_label_dict = {v: k for k, v in label_to_id_dict.items()}"
      ],
      "execution_count": 174,
      "outputs": []
    },
    {
      "cell_type": "code",
      "metadata": {
        "id": "dnThwQwocak7"
      },
      "source": [
        "label_ids = np.array([label_to_id_dict[x] for x in labels])"
      ],
      "execution_count": 175,
      "outputs": []
    },
    {
      "cell_type": "code",
      "metadata": {
        "colab": {
          "base_uri": "https://localhost:8080/"
        },
        "id": "jERIQebCccip",
        "outputId": "da5c834a-4fbb-46ba-c568-88a6d820d7a4"
      },
      "source": [
        "import cv2\n",
        "img = cv2.imread('/content/drive/MyDrive/t_sne/cercospora/real image/1.jpg',0)\n",
        "print(img.shape)\n",
        "#cv2.waitKey(0) "
      ],
      "execution_count": 136,
      "outputs": [
        {
          "output_type": "stream",
          "text": [
            "(256, 256)\n"
          ],
          "name": "stdout"
        }
      ]
    },
    {
      "cell_type": "code",
      "metadata": {
        "colab": {
          "base_uri": "https://localhost:8080/"
        },
        "id": "H1jowynHMYsN",
        "outputId": "a75a3089-087b-40b3-b4d3-8c3f565e1ade"
      },
      "source": [
        "images.size"
      ],
      "execution_count": 165,
      "outputs": [
        {
          "output_type": "execute_result",
          "data": {
            "text/plain": [
              "3857625"
            ]
          },
          "metadata": {
            "tags": []
          },
          "execution_count": 165
        }
      ]
    },
    {
      "cell_type": "code",
      "metadata": {
        "id": "nvMW75Iocfhb"
      },
      "source": [
        "#images = np.reshape(images, (1, images.size))  ##Not to run"
      ],
      "execution_count": 138,
      "outputs": []
    },
    {
      "cell_type": "code",
      "metadata": {
        "colab": {
          "base_uri": "https://localhost:8080/"
        },
        "id": "CU0TcRCpchJo",
        "outputId": "7b5063af-6b47-4df3-ec5d-9812f32f7b36"
      },
      "source": [
        "print(images.shape)"
      ],
      "execution_count": 176,
      "outputs": [
        {
          "output_type": "stream",
          "text": [
            "(400, 2025)\n"
          ],
          "name": "stdout"
        }
      ]
    },
    {
      "cell_type": "code",
      "metadata": {
        "colab": {
          "base_uri": "https://localhost:8080/"
        },
        "id": "884NxEOMK_sc",
        "outputId": "77ec44b3-a2b9-4d47-ad7a-60f376036a1b"
      },
      "source": [
        "images"
      ],
      "execution_count": 177,
      "outputs": [
        {
          "output_type": "execute_result",
          "data": {
            "text/plain": [
              "array([[  0,   0,   0, ..., 155, 156, 162],\n",
              "       [110, 113, 113, ...,  18,  17,   0],\n",
              "       [113, 139, 136, ...,  95, 102,  91],\n",
              "       ...,\n",
              "       [112, 101, 109, ...,  95,  90,  88],\n",
              "       [ 99, 103, 103, ...,  92,  90,  90],\n",
              "       [132, 137, 145, ..., 156, 155, 153]], dtype=uint8)"
            ]
          },
          "metadata": {
            "tags": []
          },
          "execution_count": 177
        }
      ]
    },
    {
      "cell_type": "code",
      "metadata": {
        "id": "tNCGhdrCK93B"
      },
      "source": [
        ""
      ],
      "execution_count": null,
      "outputs": []
    },
    {
      "cell_type": "code",
      "metadata": {
        "id": "alC9S6T8cjEL"
      },
      "source": [
        "images_scaled = StandardScaler().fit_transform(images)"
      ],
      "execution_count": 178,
      "outputs": []
    },
    {
      "cell_type": "code",
      "metadata": {
        "id": "JwpGr_fdclCg",
        "colab": {
          "base_uri": "https://localhost:8080/"
        },
        "outputId": "9af93076-e61c-47c5-ef53-5bbf1d2c791b"
      },
      "source": [
        "images_scaled.shape"
      ],
      "execution_count": 179,
      "outputs": [
        {
          "output_type": "execute_result",
          "data": {
            "text/plain": [
              "(400, 2025)"
            ]
          },
          "metadata": {
            "tags": []
          },
          "execution_count": 179
        }
      ]
    },
    {
      "cell_type": "code",
      "metadata": {
        "id": "2YB7_Ukpcm1j",
        "colab": {
          "base_uri": "https://localhost:8080/"
        },
        "outputId": "490e906d-63e4-4d6d-ce3c-f72814c41357"
      },
      "source": [
        "label_ids.shape"
      ],
      "execution_count": 180,
      "outputs": [
        {
          "output_type": "execute_result",
          "data": {
            "text/plain": [
              "(400,)"
            ]
          },
          "metadata": {
            "tags": []
          },
          "execution_count": 180
        }
      ]
    },
    {
      "cell_type": "code",
      "metadata": {
        "id": "Ij4IJBOHcoqF",
        "colab": {
          "base_uri": "https://localhost:8080/",
          "height": 284
        },
        "outputId": "238529db-5bc6-4698-cbee-36a1c9717fbe"
      },
      "source": [
        "plt.imshow(np.reshape(images_scaled[0], (45,45)), cmap=\"gray\")"
      ],
      "execution_count": 181,
      "outputs": [
        {
          "output_type": "execute_result",
          "data": {
            "text/plain": [
              "<matplotlib.image.AxesImage at 0x7f355e71ba90>"
            ]
          },
          "metadata": {
            "tags": []
          },
          "execution_count": 181
        },
        {
          "output_type": "display_data",
          "data": {
            "image/png": "[encoded data removed]",
            "text/plain": [
              "<Figure size 432x288 with 1 Axes>"
            ]
          },
          "metadata": {
            "tags": [],
            "needs_background": "light"
          }
        }
      ]
    },
    {
      "cell_type": "markdown",
      "metadata": {
        "id": "INFhQ2V4dDxn"
      },
      "source": [
        "# PCA"
      ]
    },
    {
      "cell_type": "code",
      "metadata": {
        "id": "VbMDscd_cqwT"
      },
      "source": [
        "pca = PCA(n_components=2)\n",
        "pca_result = pca.fit_transform(images_scaled)"
      ],
      "execution_count": 183,
      "outputs": []
    },
    {
      "cell_type": "code",
      "metadata": {
        "id": "II2EyoRfcsnv",
        "colab": {
          "base_uri": "https://localhost:8080/"
        },
        "outputId": "2aa8de1f-4da7-42d4-9234-74f171a7cd0f"
      },
      "source": [
        "pca_result.shape"
      ],
      "execution_count": 184,
      "outputs": [
        {
          "output_type": "execute_result",
          "data": {
            "text/plain": [
              "(400, 2)"
            ]
          },
          "metadata": {
            "tags": []
          },
          "execution_count": 184
        }
      ]
    },
    {
      "cell_type": "markdown",
      "metadata": {
        "id": "dyHPVuYKc_jm"
      },
      "source": [
        "# t-SNE after PCA"
      ]
    },
    {
      "cell_type": "code",
      "metadata": {
        "id": "Q_gSZ6tbcuc0"
      },
      "source": [
        "tsne = TSNE(n_components=2, perplexity=50.0)"
      ],
      "execution_count": 189,
      "outputs": []
    },
    {
      "cell_type": "code",
      "metadata": {
        "id": "UTGkq7ixcyEV"
      },
      "source": [
        "tsne_result = tsne.fit_transform(pca_result)"
      ],
      "execution_count": 190,
      "outputs": []
    },
    {
      "cell_type": "code",
      "metadata": {
        "id": "kAMur7Xjc0NV"
      },
      "source": [
        "tsne_result_scaled = StandardScaler().fit_transform(tsne_result)"
      ],
      "execution_count": 191,
      "outputs": []
    },
    {
      "cell_type": "code",
      "metadata": {
        "id": "8g9K9blJc18Y",
        "colab": {
          "base_uri": "https://localhost:8080/",
          "height": 880
        },
        "outputId": "be8d5b5b-c1c1-4698-ed25-fcaf997245e7"
      },
      "source": [
        "import matplotlib.pyplot as plt\n",
        "plt.figure(figsize=(7,7))\n",
        "\n",
        "visualize_scatter(tsne_result_scaled, label_ids)"
      ],
      "execution_count": 192,
      "outputs": [
        {
          "output_type": "display_data",
          "data": {
            "text/plain": [
              "<Figure size 504x504 with 0 Axes>"
            ]
          },
          "metadata": {
            "tags": []
          }
        },
        {
          "output_type": "display_data",
          "data": {
            "image/png": "[encoded data removed]",
            "text/plain": [
              "<Figure size 1080x1080 with 1 Axes>"
            ]
          },
          "metadata": {
            "tags": [],
            "needs_background": "light"
          }
        }
      ]
    },
    {
      "cell_type": "code",
      "metadata": {
        "id": "ZWpKS2m_c3sW"
      },
      "source": [
        "visualize_scatter_with_images(tsne_result_scaled, images = [np.reshape(i, (45,45)) for i in images], image_zoom=0.7)"
      ],
      "execution_count": null,
      "outputs": []
    },
    {
      "cell_type": "code",
      "metadata": {
        "id": "TXqMMJmEc5hh"
      },
      "source": [
        ""
      ],
      "execution_count": null,
      "outputs": []
    }
  ]
}