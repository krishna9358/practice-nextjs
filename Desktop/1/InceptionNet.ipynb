{
  "nbformat": 4,
  "nbformat_minor": 0,
  "metadata": {
    "accelerator": "GPU",
    "colab": {
      "name": "InceptionNet.ipynb",
      "provenance": [],
      "collapsed_sections": []
    },
    "kernelspec": {
      "display_name": "Python 3",
      "name": "python3"
    }
  },
  "cells": [
    {
      "cell_type": "code",
      "metadata": {
        "colab": {
          "base_uri": "https://localhost:8080/"
        },
        "id": "KLSRSCLQx1RY",
        "outputId": "164d310d-39bc-4a93-dc34-80bba993ba10"
      },
      "source": [
        "from google.colab import drive\n",
        "drive.mount('/content/gdrive')"
      ],
      "execution_count": null,
      "outputs": [
        {
          "output_type": "stream",
          "text": [
            "Drive already mounted at /content/gdrive; to attempt to forcibly remount, call drive.mount(\"/content/gdrive\", force_remount=True).\n"
          ],
          "name": "stdout"
        }
      ]
    },
    {
      "cell_type": "code",
      "metadata": {
        "id": "v3zcwGIG8U13"
      },
      "source": [
        "import tensorflow as tf\n",
        "import tensorflow_hub as hub\n",
        "import os\n",
        "from typing import Tuple\n",
        "import numpy as np\n",
        "import pickle\n",
        "import cv2"
      ],
      "execution_count": null,
      "outputs": []
    },
    {
      "cell_type": "code",
      "metadata": {
        "id": "bXxolbSs8Zqh"
      },
      "source": [
        "def load_generators_train(dataset_dir: str, image_dim: Tuple[int, int], batch_size: int):\n",
        "    train_datagen = tf.keras.preprocessing.image.ImageDataGenerator(\n",
        "        rescale=1./255)\n",
        "\n",
        "    train_generator = train_datagen.flow_from_directory(\n",
        "        dataset_dir,\n",
        "        shuffle=True,\n",
        "        color_mode=\"rgb\",\n",
        "        class_mode=\"categorical\",\n",
        "        target_size=image_dim,\n",
        "        batch_size=batch_size)\n",
        "    # it takes input images and outputs augmented images\n",
        "\n",
        "    print('created dataset for {}'.format(dataset_dir))\n",
        "\n",
        "    return train_generator"
      ],
      "execution_count": null,
      "outputs": []
    },
    {
      "cell_type": "code",
      "metadata": {
        "id": "GooF0Qpr8c7t"
      },
      "source": [
        "def load_generators_val(dataset_dir: str, image_dim: Tuple[int, int], batch_size: int):\n",
        "    \n",
        "    train_datagen = tf.keras.preprocessing.image.ImageDataGenerator(rescale=1./255)\n",
        "    train_generator = train_datagen.flow_from_directory(\n",
        "        dataset_dir,\n",
        "        shuffle=False,\n",
        "        color_mode=\"rgb\",\n",
        "        class_mode=\"categorical\",\n",
        "        target_size=image_dim,\n",
        "        batch_size=1)\n",
        "    print('created dataset for {}'.format(dataset_dir))\n",
        "\n",
        "    return train_generator"
      ],
      "execution_count": null,
      "outputs": []
    },
    {
      "cell_type": "code",
      "metadata": {
        "colab": {
          "base_uri": "https://localhost:8080/"
        },
        "id": "FgNT8Kqi8gHO",
        "outputId": "620831d3-7a89-4905-cc62-10e63e633762"
      },
      "source": [
        "BATCH_SIZE = 16\n",
        "IMG_HEIGHT = 256\n",
        "IMG_WIDTH = 256\n",
        "\n",
        "train_dir = '/content/gdrive/MyDrive/augment_images/disease'\n",
        "validation_dir = '/content/gdrive/MyDrive/leaf_resized/disease'\n",
        "\n",
        "# load the data generators\n",
        "train_datagen = load_generators_train(train_dir, (IMG_HEIGHT, IMG_WIDTH), BATCH_SIZE)\n",
        "\n",
        "validation_datagen = load_generators_val(validation_dir, (IMG_HEIGHT, IMG_WIDTH), BATCH_SIZE)\n",
        "#These new datasets are new transformed images produced using ImageDataGenerator class required for transfer learning."
      ],
      "execution_count": null,
      "outputs": [
        {
          "output_type": "stream",
          "text": [
            "Found 4010 images belonging to 5 classes.\n",
            "created dataset for /content/gdrive/MyDrive/augment_images/disease\n",
            "Found 408 images belonging to 5 classes.\n",
            "created dataset for /content/gdrive/MyDrive/leaf_resized/disease\n"
          ],
          "name": "stdout"
        }
      ]
    },
    {
      "cell_type": "code",
      "metadata": {
        "id": "NZzF1KyT8i84"
      },
      "source": [
        "INCEPTIONV3_TFHUB = 'https://tfhub.dev/google/tf2-preview/inception_v3/feature_vector/4'\n",
        "#Getting the InceptionV3 model"
      ],
      "execution_count": null,
      "outputs": []
    },
    {
      "cell_type": "code",
      "metadata": {
        "colab": {
          "base_uri": "https://localhost:8080/"
        },
        "id": "jtIMumjT8nGm",
        "outputId": "7cf7ad45-eff4-48a2-9980-01a253034b0f"
      },
      "source": [
        "input_shape = (IMG_WIDTH, IMG_HEIGHT, 3)\n",
        "num_classes = train_datagen.num_classes\n",
        "#declaring the classes and input shape\n",
        "\n",
        "# fetch the feature extractor from the tf_hub\n",
        "feature_extractor = hub.KerasLayer(INCEPTIONV3_TFHUB, input_shape=input_shape)\n",
        "#used to gather the transfer learning model\n",
        "\n",
        "# make the feature extractor trainable\n",
        "feature_extractor.trainable = True\n",
        "# create the sequential model\n",
        "model = tf.keras.Sequential([\n",
        "    feature_extractor,\n",
        "    #tf.keras.layers.GlobalAveragePooling2D(),\n",
        "    tf.keras.layers.Flatten(),\n",
        "    tf.keras.layers.Dense(512, activation='relu'),\n",
        "    tf.keras.layers.Dense(num_classes, activation='softmax', kernel_regularizer=tf.keras.regularizers.l2(0.0005))\n",
        "])\n",
        "\n",
        "\n",
        "model.summary()\n",
        "#out = GlobalAveragePooling2D()(out)\n",
        "#out = Dense(512, activation='relu')(out)\n",
        "#out = Dense(512, activation='relu')(out)"
      ],
      "execution_count": null,
      "outputs": [
        {
          "output_type": "stream",
          "text": [
            "Model: \"sequential\"\n",
            "_________________________________________________________________\n",
            "Layer (type)                 Output Shape              Param #   \n",
            "=================================================================\n",
            "keras_layer (KerasLayer)     (None, 2048)              21802784  \n",
            "_________________________________________________________________\n",
            "flatten (Flatten)            (None, 2048)              0         \n",
            "_________________________________________________________________\n",
            "dense (Dense)                (None, 512)               1049088   \n",
            "_________________________________________________________________\n",
            "dense_1 (Dense)              (None, 5)                 2565      \n",
            "=================================================================\n",
            "Total params: 22,854,437\n",
            "Trainable params: 22,820,005\n",
            "Non-trainable params: 34,432\n",
            "_________________________________________________________________\n"
          ],
          "name": "stdout"
        }
      ]
    },
    {
      "cell_type": "code",
      "metadata": {
        "colab": {
          "base_uri": "https://localhost:8080/"
        },
        "id": "wihg9UPx8pnJ",
        "outputId": "be31dca0-0c18-46d8-f8b6-bd78fb1a2a73"
      },
      "source": [
        "# print the summary of the model\n",
        "model.summary()"
      ],
      "execution_count": null,
      "outputs": [
        {
          "output_type": "stream",
          "text": [
            "Model: \"sequential\"\n",
            "_________________________________________________________________\n",
            "Layer (type)                 Output Shape              Param #   \n",
            "=================================================================\n",
            "keras_layer (KerasLayer)     (None, 2048)              21802784  \n",
            "_________________________________________________________________\n",
            "flatten (Flatten)            (None, 2048)              0         \n",
            "_________________________________________________________________\n",
            "dense (Dense)                (None, 512)               1049088   \n",
            "_________________________________________________________________\n",
            "dense_1 (Dense)              (None, 5)                 2565      \n",
            "=================================================================\n",
            "Total params: 22,854,437\n",
            "Trainable params: 22,820,005\n",
            "Non-trainable params: 34,432\n",
            "_________________________________________________________________\n"
          ],
          "name": "stdout"
        }
      ]
    },
    {
      "cell_type": "code",
      "metadata": {
        "id": "xSFdOMV3-Gqr"
      },
      "source": [
        "# compiling the model\n",
        "model.compile(\n",
        "    optimizer=tf.keras.optimizers.SGD(learning_rate=0.003,momentum=0.9),\n",
        "    loss='categorical_crossentropy',\n",
        "    metrics=['accuracy']\n",
        ")"
      ],
      "execution_count": null,
      "outputs": []
    },
    {
      "cell_type": "code",
      "metadata": {
        "id": "LN_-TnQO-Jio",
        "colab": {
          "base_uri": "https://localhost:8080/"
        },
        "outputId": "09b7727f-980b-43de-c30b-dfdfdd01f966"
      },
      "source": [
        "# training the model\n",
        "history=model.fit(\n",
        "    train_datagen,\n",
        "    epochs=50,\n",
        "    steps_per_epoch=train_datagen.samples//train_datagen.batch_size, validation_data=validation_datagen)"
      ],
      "execution_count": null,
      "outputs": [
        {
          "output_type": "stream",
          "text": [
            "Epoch 1/50\n",
            "250/250 [==============================] - 3108s 12s/step - loss: 0.8339 - accuracy: 0.7722 - val_loss: 0.5034 - val_accuracy: 0.9167\n",
            "Epoch 2/50\n",
            "250/250 [==============================] - 121s 485ms/step - loss: 0.3572 - accuracy: 0.9608 - val_loss: 0.5844 - val_accuracy: 0.8873\n",
            "Epoch 3/50\n",
            "250/250 [==============================] - 122s 487ms/step - loss: 0.3004 - accuracy: 0.9783 - val_loss: 0.6316 - val_accuracy: 0.8775\n",
            "Epoch 4/50\n",
            "250/250 [==============================] - 122s 487ms/step - loss: 0.2716 - accuracy: 0.9887 - val_loss: 0.4774 - val_accuracy: 0.9461\n",
            "Epoch 5/50\n",
            "250/250 [==============================] - 122s 487ms/step - loss: 0.2777 - accuracy: 0.9876 - val_loss: 0.4840 - val_accuracy: 0.9338\n",
            "Epoch 6/50\n",
            "250/250 [==============================] - 122s 486ms/step - loss: 0.2685 - accuracy: 0.9882 - val_loss: 0.5292 - val_accuracy: 0.9167\n",
            "Epoch 7/50\n",
            "250/250 [==============================] - 121s 486ms/step - loss: 0.2542 - accuracy: 0.9945 - val_loss: 0.4291 - val_accuracy: 0.9461\n",
            "Epoch 8/50\n",
            "250/250 [==============================] - 122s 487ms/step - loss: 0.2557 - accuracy: 0.9952 - val_loss: 0.5376 - val_accuracy: 0.9338\n",
            "Epoch 9/50\n",
            "250/250 [==============================] - 122s 487ms/step - loss: 0.2518 - accuracy: 0.9955 - val_loss: 0.4047 - val_accuracy: 0.9510\n",
            "Epoch 10/50\n",
            "250/250 [==============================] - 122s 487ms/step - loss: 0.2532 - accuracy: 0.9925 - val_loss: 0.3856 - val_accuracy: 0.9534\n",
            "Epoch 11/50\n",
            "250/250 [==============================] - 122s 486ms/step - loss: 0.2429 - accuracy: 0.9983 - val_loss: 0.3869 - val_accuracy: 0.9681\n",
            "Epoch 12/50\n",
            "250/250 [==============================] - 122s 487ms/step - loss: 0.2389 - accuracy: 0.9975 - val_loss: 0.3993 - val_accuracy: 0.9657\n",
            "Epoch 13/50\n",
            "250/250 [==============================] - 122s 487ms/step - loss: 0.2371 - accuracy: 0.9989 - val_loss: 0.3994 - val_accuracy: 0.9681\n",
            "Epoch 14/50\n",
            "250/250 [==============================] - 122s 487ms/step - loss: 0.2360 - accuracy: 0.9988 - val_loss: 0.4082 - val_accuracy: 0.9657\n",
            "Epoch 15/50\n",
            "250/250 [==============================] - 122s 487ms/step - loss: 0.2354 - accuracy: 0.9991 - val_loss: 0.3880 - val_accuracy: 0.9681\n",
            "Epoch 16/50\n",
            "250/250 [==============================] - 122s 487ms/step - loss: 0.2424 - accuracy: 0.9967 - val_loss: 0.4018 - val_accuracy: 0.9559\n",
            "Epoch 17/50\n",
            "250/250 [==============================] - 122s 488ms/step - loss: 0.2414 - accuracy: 0.9986 - val_loss: 0.3942 - val_accuracy: 0.9706\n",
            "Epoch 18/50\n",
            "250/250 [==============================] - 122s 488ms/step - loss: 0.2347 - accuracy: 0.9995 - val_loss: 0.3903 - val_accuracy: 0.9681\n",
            "Epoch 19/50\n",
            "250/250 [==============================] - 122s 488ms/step - loss: 0.2333 - accuracy: 0.9998 - val_loss: 0.4049 - val_accuracy: 0.9706\n",
            "Epoch 20/50\n",
            "250/250 [==============================] - 122s 487ms/step - loss: 0.2331 - accuracy: 1.0000 - val_loss: 0.3991 - val_accuracy: 0.9583\n",
            "Epoch 21/50\n",
            "250/250 [==============================] - 122s 487ms/step - loss: 0.2331 - accuracy: 0.9998 - val_loss: 0.3982 - val_accuracy: 0.9681\n",
            "Epoch 22/50\n",
            "250/250 [==============================] - 122s 486ms/step - loss: 0.2329 - accuracy: 0.9998 - val_loss: 0.4339 - val_accuracy: 0.9583\n",
            "Epoch 23/50\n",
            "250/250 [==============================] - 122s 488ms/step - loss: 0.2325 - accuracy: 1.0000 - val_loss: 0.3641 - val_accuracy: 0.9706\n",
            "Epoch 24/50\n",
            "250/250 [==============================] - 122s 488ms/step - loss: 0.2322 - accuracy: 0.9999 - val_loss: 0.4442 - val_accuracy: 0.9632\n",
            "Epoch 25/50\n",
            "250/250 [==============================] - 122s 488ms/step - loss: 0.2324 - accuracy: 0.9995 - val_loss: 0.4078 - val_accuracy: 0.9608\n",
            "Epoch 26/50\n",
            "250/250 [==============================] - 122s 487ms/step - loss: 0.2461 - accuracy: 0.9955 - val_loss: 0.4758 - val_accuracy: 0.9485\n",
            "Epoch 27/50\n",
            "250/250 [==============================] - 122s 487ms/step - loss: 0.2340 - accuracy: 0.9984 - val_loss: 0.4925 - val_accuracy: 0.9534\n",
            "Epoch 28/50\n",
            "250/250 [==============================] - 121s 485ms/step - loss: 0.2328 - accuracy: 0.9994 - val_loss: 0.3828 - val_accuracy: 0.9681\n",
            "Epoch 29/50\n",
            "250/250 [==============================] - 121s 486ms/step - loss: 0.2317 - accuracy: 0.9995 - val_loss: 0.3738 - val_accuracy: 0.9681\n",
            "Epoch 30/50\n",
            "250/250 [==============================] - 121s 485ms/step - loss: 0.2373 - accuracy: 0.9989 - val_loss: 0.4086 - val_accuracy: 0.9657\n",
            "Epoch 31/50\n",
            "250/250 [==============================] - 121s 485ms/step - loss: 0.2307 - accuracy: 1.0000 - val_loss: 0.4010 - val_accuracy: 0.9681\n",
            "Epoch 32/50\n",
            "250/250 [==============================] - 121s 485ms/step - loss: 0.2312 - accuracy: 0.9997 - val_loss: 0.3906 - val_accuracy: 0.9681\n",
            "Epoch 33/50\n",
            "250/250 [==============================] - 121s 485ms/step - loss: 0.2369 - accuracy: 0.9980 - val_loss: 0.4171 - val_accuracy: 0.9608\n",
            "Epoch 34/50\n",
            "250/250 [==============================] - 121s 485ms/step - loss: 0.2323 - accuracy: 0.9994 - val_loss: 0.4202 - val_accuracy: 0.9583\n",
            "Epoch 35/50\n",
            "250/250 [==============================] - 121s 485ms/step - loss: 0.2330 - accuracy: 0.9989 - val_loss: 0.4105 - val_accuracy: 0.9706\n",
            "Epoch 36/50\n",
            "250/250 [==============================] - 121s 485ms/step - loss: 0.2300 - accuracy: 1.0000 - val_loss: 0.3957 - val_accuracy: 0.9730\n",
            "Epoch 37/50\n",
            "250/250 [==============================] - 121s 485ms/step - loss: 0.2301 - accuracy: 1.0000 - val_loss: 0.5097 - val_accuracy: 0.9534\n",
            "Epoch 38/50\n",
            "250/250 [==============================] - 121s 484ms/step - loss: 0.2302 - accuracy: 1.0000 - val_loss: 0.4111 - val_accuracy: 0.9657\n",
            "Epoch 39/50\n",
            "250/250 [==============================] - 121s 485ms/step - loss: 0.2298 - accuracy: 0.9997 - val_loss: 0.4141 - val_accuracy: 0.9657\n",
            "Epoch 40/50\n",
            "250/250 [==============================] - 121s 485ms/step - loss: 0.2292 - accuracy: 1.0000 - val_loss: 0.4034 - val_accuracy: 0.9681\n",
            "Epoch 41/50\n",
            "250/250 [==============================] - 121s 485ms/step - loss: 0.2290 - accuracy: 1.0000 - val_loss: 0.3979 - val_accuracy: 0.9706\n",
            "Epoch 42/50\n",
            "250/250 [==============================] - 121s 485ms/step - loss: 0.2287 - accuracy: 1.0000 - val_loss: 0.4082 - val_accuracy: 0.9632\n",
            "Epoch 43/50\n",
            "250/250 [==============================] - 122s 488ms/step - loss: 0.2289 - accuracy: 0.9997 - val_loss: 0.3954 - val_accuracy: 0.9681\n",
            "Epoch 44/50\n",
            "250/250 [==============================] - 122s 488ms/step - loss: 0.2284 - accuracy: 1.0000 - val_loss: 0.4106 - val_accuracy: 0.9632\n",
            "Epoch 45/50\n",
            "250/250 [==============================] - 122s 488ms/step - loss: 0.2284 - accuracy: 1.0000 - val_loss: 0.3941 - val_accuracy: 0.9681\n",
            "Epoch 46/50\n",
            "250/250 [==============================] - 122s 488ms/step - loss: 0.2280 - accuracy: 1.0000 - val_loss: 0.3834 - val_accuracy: 0.9681\n",
            "Epoch 47/50\n",
            "250/250 [==============================] - 122s 488ms/step - loss: 0.2278 - accuracy: 1.0000 - val_loss: 0.3847 - val_accuracy: 0.9706\n",
            "Epoch 48/50\n",
            "250/250 [==============================] - 122s 488ms/step - loss: 0.2280 - accuracy: 0.9998 - val_loss: 0.4009 - val_accuracy: 0.9632\n",
            "Epoch 49/50\n",
            "250/250 [==============================] - 122s 488ms/step - loss: 0.2282 - accuracy: 0.9995 - val_loss: 0.3962 - val_accuracy: 0.9657\n",
            "Epoch 50/50\n",
            "250/250 [==============================] - 122s 488ms/step - loss: 0.2276 - accuracy: 1.0000 - val_loss: 0.3991 - val_accuracy: 0.9632\n"
          ],
          "name": "stdout"
        }
      ]
    },
    {
      "cell_type": "code",
      "metadata": {
        "colab": {
          "base_uri": "https://localhost:8080/"
        },
        "id": "vpbPZoSM2b7s",
        "outputId": "df54137a-83f1-49a8-a62e-1b74e91eb0ef"
      },
      "source": [
        "name = 'model2'\n",
        "print(\"[INFO] Saving model\")\n",
        "model.save('/content/gdrive/MyDrive/saved_models_inc/'+ name)"
      ],
      "execution_count": null,
      "outputs": [
        {
          "output_type": "stream",
          "text": [
            "[INFO] Saving model\n",
            "INFO:tensorflow:Assets written to: /content/gdrive/MyDrive/saved_models_inc/model2/assets\n"
          ],
          "name": "stdout"
        },
        {
          "output_type": "stream",
          "text": [
            "INFO:tensorflow:Assets written to: /content/gdrive/MyDrive/saved_models_inc/model2/assets\n"
          ],
          "name": "stderr"
        }
      ]
    },
    {
      "cell_type": "code",
      "metadata": {
        "id": "FPH0SnFC9APD"
      },
      "source": [
        "from tensorflow import keras\n",
        "model = keras.models.load_model('/content/gdrive/MyDrive/saved_models_inc/model1')"
      ],
      "execution_count": null,
      "outputs": []
    },
    {
      "cell_type": "code",
      "metadata": {
        "colab": {
          "base_uri": "https://localhost:8080/"
        },
        "id": "tryXjXrS9lQf",
        "outputId": "d8d26d96-0cc6-485c-a3f0-9c51a9f2d48a"
      },
      "source": [
        "model.summary()"
      ],
      "execution_count": null,
      "outputs": [
        {
          "output_type": "stream",
          "text": [
            "Model: \"sequential\"\n",
            "_________________________________________________________________\n",
            "Layer (type)                 Output Shape              Param #   \n",
            "=================================================================\n",
            "keras_layer (KerasLayer)     (None, 2048)              21802784  \n",
            "_________________________________________________________________\n",
            "flatten (Flatten)            (None, 2048)              0         \n",
            "_________________________________________________________________\n",
            "dense (Dense)                (None, 512)               1049088   \n",
            "_________________________________________________________________\n",
            "dense_1 (Dense)              (None, 5)                 2565      \n",
            "=================================================================\n",
            "Total params: 22,854,437\n",
            "Trainable params: 22,820,005\n",
            "Non-trainable params: 34,432\n",
            "_________________________________________________________________\n"
          ],
          "name": "stdout"
        }
      ]
    },
    {
      "cell_type": "code",
      "metadata": {
        "id": "P8d1ZBh7i9Jn"
      },
      "source": [
        "import numpy as np\n",
        "import pickle\n",
        "import cv2\n",
        "from os import listdir\n",
        "from sklearn.preprocessing import LabelBinarizer\n",
        "from keras.models import Sequential\n",
        "from keras.layers.normalization import BatchNormalization\n",
        "from keras.layers.convolutional import Conv2D\n",
        "from keras.layers.convolutional import MaxPooling2D\n",
        "from keras.layers.core import Activation, Flatten, Dropout, Dense\n",
        "from keras import backend as K\n",
        "from keras.preprocessing.image import ImageDataGenerator\n",
        "from keras.optimizers import Adam\n",
        "from keras.preprocessing import image\n",
        "from keras.preprocessing.image import img_to_array\n",
        "from sklearn.preprocessing import MultiLabelBinarizer\n",
        "from sklearn.model_selection import train_test_split\n",
        "import matplotlib.pyplot as plt\n",
        "\n",
        "import tensorflow as tf\n",
        "import tensorflow_hub as hub\n",
        "import os\n",
        "from typing import Tuple"
      ],
      "execution_count": null,
      "outputs": []
    },
    {
      "cell_type": "code",
      "metadata": {
        "colab": {
          "base_uri": "https://localhost:8080/"
        },
        "id": "JMidSy1ji6y9",
        "outputId": "3292d87d-fd5e-4586-8528-e9d4da7944d6"
      },
      "source": [
        "import os\n",
        "os.listdir(\"/content/gdrive/MyDrive/augment_images\")"
      ],
      "execution_count": null,
      "outputs": [
        {
          "output_type": "execute_result",
          "data": {
            "text/plain": [
              "['disease']"
            ]
          },
          "metadata": {
            "tags": []
          },
          "execution_count": 13
        }
      ]
    },
    {
      "cell_type": "code",
      "metadata": {
        "id": "4r8hDf-ni4tv"
      },
      "source": [
        "EPOCHS = 10\n",
        "INIT_LR = 1e-3\n",
        "BS = 16\n",
        "default_image_size = tuple((256,256))\n",
        "image_size = 0\n",
        "directory_root = '/content/gdrive/MyDrive/augment_images'\n",
        "width=256\n",
        "height=256\n",
        "depth=3"
      ],
      "execution_count": null,
      "outputs": []
    },
    {
      "cell_type": "code",
      "metadata": {
        "colab": {
          "base_uri": "https://localhost:8080/"
        },
        "id": "PwSWMaxoi0_d",
        "outputId": "1444a109-122f-44f8-9227-5a4e9cea72a6"
      },
      "source": [
        "def convert_image_to_array(image_dir):\n",
        "    try:\n",
        "        image = cv2.imread(image_dir)\n",
        "        if image is not None :\n",
        "            image = cv2.resize(image, default_image_size)   \n",
        "            return img_to_array(image)\n",
        "        else :\n",
        "            return np.array([])\n",
        "    except Exception as e:\n",
        "        print(f\"Error : {e}\")\n",
        "        return None\n",
        "image_list, label_list = [], []\n",
        "try:\n",
        "    print(\"[INFO] Loading images ...\")\n",
        "    root_dir = listdir(directory_root)\n",
        "\n",
        "    for plant_folder in root_dir :\n",
        "        plant_disease_folder_list = listdir(f\"{directory_root}/{plant_folder}\")\n",
        "\n",
        "        for plant_disease_folder in plant_disease_folder_list:\n",
        "            print(f\"[INFO] Processing {plant_disease_folder} ...\")\n",
        "            plant_disease_image_list = listdir(f\"{directory_root}/{plant_folder}/{plant_disease_folder}/\")\n",
        "\n",
        "            for image in plant_disease_image_list[:800]:\n",
        "                image_directory = f\"{directory_root}/{plant_folder}/{plant_disease_folder}/{image}\"\n",
        "                if image_directory.endswith(\".jpg\") == True or image_directory.endswith(\".JPG\") == True:\n",
        "                    image_list.append(convert_image_to_array(image_directory))\n",
        "                    label_list.append(plant_disease_folder)\n",
        "    print(\"[INFO] Image loading completed\")  \n",
        "except Exception as e:\n",
        "    print(f\"Error --- : {e}\")"
      ],
      "execution_count": null,
      "outputs": [
        {
          "output_type": "stream",
          "text": [
            "[INFO] Loading images ...\n",
            "[INFO] Processing cercospora ...\n",
            "[INFO] Processing miner ...\n",
            "[INFO] Processing rust ...\n",
            "[INFO] Processing healthy ...\n",
            "[INFO] Processing phoma ...\n",
            "[INFO] Image loading completed\n"
          ],
          "name": "stdout"
        }
      ]
    },
    {
      "cell_type": "code",
      "metadata": {
        "colab": {
          "base_uri": "https://localhost:8080/"
        },
        "id": "Ovr3jXYXiye2",
        "outputId": "18a97464-9e3c-42c2-bd9f-b93d97862edc"
      },
      "source": [
        "image_size = len(image_list)\n",
        "image_size"
      ],
      "execution_count": null,
      "outputs": [
        {
          "output_type": "execute_result",
          "data": {
            "text/plain": [
              "4000"
            ]
          },
          "metadata": {
            "tags": []
          },
          "execution_count": 27
        }
      ]
    },
    {
      "cell_type": "code",
      "metadata": {
        "colab": {
          "base_uri": "https://localhost:8080/"
        },
        "id": "z1qQYP6kix1-",
        "outputId": "c54a14a4-1f4c-4b39-de8d-912470d85a3c"
      },
      "source": [
        "label_binarizer = LabelBinarizer()\n",
        "image_labels = label_binarizer.fit_transform(label_list)\n",
        "pickle.dump(label_binarizer,open('label_transform.pkl', 'wb'))\n",
        "n_classes = len(label_binarizer.classes_)\n",
        "print(label_binarizer.classes_)"
      ],
      "execution_count": null,
      "outputs": [
        {
          "output_type": "stream",
          "text": [
            "['cercospora' 'healthy' 'miner' 'phoma' 'rust']\n"
          ],
          "name": "stdout"
        }
      ]
    },
    {
      "cell_type": "code",
      "metadata": {
        "colab": {
          "base_uri": "https://localhost:8080/"
        },
        "id": "Nddwt-Cbicvz",
        "outputId": "48841186-22dc-439d-b013-2f74aaf00576"
      },
      "source": [
        "np_image_list = np.array(image_list, dtype=np.float16) / 255.0\n",
        "print(\"[INFO] Spliting data to train, test\")\n",
        "x_train, x_test, y_train, y_test = train_test_split(np_image_list, image_labels, test_size=0.2, random_state = 42) "
      ],
      "execution_count": null,
      "outputs": [
        {
          "output_type": "stream",
          "text": [
            "[INFO] Spliting data to train, test\n"
          ],
          "name": "stdout"
        }
      ]
    },
    {
      "cell_type": "code",
      "metadata": {
        "id": "vK0bZ70-idn9"
      },
      "source": [
        "aug = ImageDataGenerator(\n",
        "    rotation_range=25, width_shift_range=0.1,\n",
        "    height_shift_range=0.1, shear_range=0.2, \n",
        "    zoom_range=0.2,horizontal_flip=True, \n",
        "    fill_mode=\"nearest\")"
      ],
      "execution_count": null,
      "outputs": []
    },
    {
      "cell_type": "code",
      "metadata": {
        "colab": {
          "base_uri": "https://localhost:8080/"
        },
        "id": "0W0RxujYifdi",
        "outputId": "3fc12603-d8ac-420c-8e78-442efedbe0ab"
      },
      "source": [
        "history = model.fit_generator(\n",
        "    aug.flow(x_train, y_train, batch_size=BS),\n",
        "    validation_data=(x_test, y_test),\n",
        "    steps_per_epoch=len(x_train) // BS,\n",
        "    epochs=20, verbose=1\n",
        "    )"
      ],
      "execution_count": null,
      "outputs": [
        {
          "output_type": "stream",
          "text": [
            "WARNING:tensorflow:From <ipython-input-31-dd474f53d8a9>:5: Model.fit_generator (from tensorflow.python.keras.engine.training) is deprecated and will be removed in a future version.\n",
            "Instructions for updating:\n",
            "Please use Model.fit, which supports generators.\n"
          ],
          "name": "stdout"
        },
        {
          "output_type": "stream",
          "text": [
            "WARNING:tensorflow:From <ipython-input-31-dd474f53d8a9>:5: Model.fit_generator (from tensorflow.python.keras.engine.training) is deprecated and will be removed in a future version.\n",
            "Instructions for updating:\n",
            "Please use Model.fit, which supports generators.\n"
          ],
          "name": "stderr"
        },
        {
          "output_type": "stream",
          "text": [
            "Epoch 1/20\n",
            "152/200 [=====================>........] - ETA: 12s - loss: 0.4313 - accuracy: 0.9371"
          ],
          "name": "stdout"
        }
      ]
    },
    {
      "cell_type": "code",
      "metadata": {
        "colab": {
          "base_uri": "https://localhost:8080/"
        },
        "id": "3BkV8y0w-MGf",
        "outputId": "678fe8a1-aa80-4443-8962-c2909b15b582"
      },
      "source": [
        "# evaluate the model\n",
        "loss, accuracy = model.evaluate(validation_datagen)\n",
        "# train accuracy\n",
        "train_loss, train_accuracy = model.evaluate(train_datagen)"
      ],
      "execution_count": null,
      "outputs": [
        {
          "output_type": "stream",
          "text": [
            "408/408 [==============================] - 7s 17ms/step - loss: 0.4247 - accuracy: 0.9657\n",
            "251/251 [==============================] - 15s 58ms/step - loss: 0.2313 - accuracy: 1.0000\n"
          ],
          "name": "stdout"
        }
      ]
    },
    {
      "cell_type": "code",
      "metadata": {
        "colab": {
          "base_uri": "https://localhost:8080/"
        },
        "id": "94Eu2E5Q_a5U",
        "outputId": "62643344-79ce-4b97-da45-4a6793056461"
      },
      "source": [
        "len(train_datagen.index_array)"
      ],
      "execution_count": null,
      "outputs": [
        {
          "output_type": "execute_result",
          "data": {
            "text/plain": [
              "4010"
            ]
          },
          "metadata": {
            "tags": []
          },
          "execution_count": 15
        }
      ]
    },
    {
      "cell_type": "code",
      "metadata": {
        "id": "c_eq1eLMU_x6"
      },
      "source": [
        "from keras.models import Model\n",
        "model_feat = Model(inputs=model.input, outputs=model.get_layer('dense').output)\n",
        "feat_train = model_feat.predict(train_datagen)"
      ],
      "execution_count": null,
      "outputs": []
    },
    {
      "cell_type": "code",
      "metadata": {
        "colab": {
          "base_uri": "https://localhost:8080/"
        },
        "id": "ZwihnBhUVPjF",
        "outputId": "e72e185b-4316-40a0-c281-f41610cfdf95"
      },
      "source": [
        "model_feat.summary()\n",
        "#print(feat_train.shape)\n",
        "#feat_train.all"
      ],
      "execution_count": null,
      "outputs": [
        {
          "output_type": "stream",
          "text": [
            "Model: \"model\"\n",
            "_________________________________________________________________\n",
            "Layer (type)                 Output Shape              Param #   \n",
            "=================================================================\n",
            "keras_layer_input (InputLaye [(None, 256, 256, 3)]     0         \n",
            "_________________________________________________________________\n",
            "keras_layer (KerasLayer)     (None, 2048)              21802784  \n",
            "_________________________________________________________________\n",
            "flatten (Flatten)            (None, 2048)              0         \n",
            "_________________________________________________________________\n",
            "dense (Dense)                (None, 512)               1049088   \n",
            "=================================================================\n",
            "Total params: 22,851,872\n",
            "Trainable params: 22,817,440\n",
            "Non-trainable params: 34,432\n",
            "_________________________________________________________________\n"
          ],
          "name": "stdout"
        }
      ]
    },
    {
      "cell_type": "code",
      "metadata": {
        "id": "AvPGGMW5msVj"
      },
      "source": [
        "predicted_class_indices=np.argmax(feat_train,axis=1)\n",
        "\n",
        "predicted_class_indices"
      ],
      "execution_count": null,
      "outputs": []
    },
    {
      "cell_type": "code",
      "metadata": {
        "colab": {
          "base_uri": "https://localhost:8080/"
        },
        "id": "RSKe1Ij6nR0r",
        "outputId": "6aac445b-1592-49e7-a552-a20c5e3d1a3c"
      },
      "source": [
        "print(train_datagen.class_indices)\n",
        "print(train_datagen.labels)"
      ],
      "execution_count": null,
      "outputs": [
        {
          "output_type": "stream",
          "text": [
            "{'cercospora': 0, 'healthy': 1, 'miner': 2, 'phoma': 3, 'rust': 4}\n",
            "[0 0 0 ... 4 4 4]\n"
          ],
          "name": "stdout"
        }
      ]
    },
    {
      "cell_type": "markdown",
      "metadata": {
        "id": "kr7QCIg_AuJA"
      },
      "source": [
        "# XGBoost"
      ]
    },
    {
      "cell_type": "code",
      "metadata": {
        "colab": {
          "base_uri": "https://localhost:8080/"
        },
        "id": "fNGFr81TVX12",
        "outputId": "873f1f64-b6f6-4ff7-c219-fff81a8d5183"
      },
      "source": [
        "import xgboost as xgb\n",
        "\n",
        "xb = xgb.XGBClassifier(objective='multi:softprob', \n",
        "                      num_class= 5)\n",
        "#xb.fit()\n",
        "\n",
        "xb.fit(feat_train, train_datagen.labels)\n",
        "\n",
        "print('fitting done !!!')"
      ],
      "execution_count": null,
      "outputs": [
        {
          "output_type": "stream",
          "text": [
            "fitting done !!!\n"
          ],
          "name": "stdout"
        }
      ]
    },
    {
      "cell_type": "code",
      "metadata": {
        "id": "QsRB0IXBYaFh"
      },
      "source": [
        "y_pred = xb.predict(validation_datagen)"
      ],
      "execution_count": null,
      "outputs": []
    },
    {
      "cell_type": "code",
      "metadata": {
        "id": "eWshaC0_dn8E"
      },
      "source": [
        "from sklearn.metrics import confusion_matrix\n",
        "import numpy as np\n",
        "\n",
        "y_pred = np.argmax(Y_pred, axis=1)\n",
        "print('Confusion Matrix')\n",
        "matrix=confusion_matrix(validation_datagen.classes, y_pred)\n",
        "print(matrix)"
      ],
      "execution_count": null,
      "outputs": []
    },
    {
      "cell_type": "code",
      "metadata": {
        "colab": {
          "base_uri": "https://localhost:8080/"
        },
        "id": "BFSijVw1pfxb",
        "outputId": "4eff4d48-376b-471e-fde5-f6dd5267d16c"
      },
      "source": [
        "xb.score(feat_train, train_datagen.labels)"
      ],
      "execution_count": null,
      "outputs": [
        {
          "output_type": "execute_result",
          "data": {
            "text/plain": [
              "0.5942643391521197"
            ]
          },
          "metadata": {
            "tags": []
          },
          "execution_count": 10
        }
      ]
    },
    {
      "cell_type": "code",
      "metadata": {
        "id": "HMjDlxPf71qK"
      },
      "source": [
        "feat_val = model_feat.predict(validation_datagen)"
      ],
      "execution_count": null,
      "outputs": []
    },
    {
      "cell_type": "code",
      "metadata": {
        "colab": {
          "base_uri": "https://localhost:8080/"
        },
        "id": "DZ4sdGLpR87w",
        "outputId": "dedfef94-9b63-4ed2-ca91-b9c16e0fa6ea"
      },
      "source": [
        "xb.fit(feat_val, validation_datagen.labels)\n",
        "xb.score(feat_val, validation_datagen.labels)"
      ],
      "execution_count": null,
      "outputs": [
        {
          "output_type": "execute_result",
          "data": {
            "text/plain": [
              "1.0"
            ]
          },
          "metadata": {
            "tags": []
          },
          "execution_count": 13
        }
      ]
    },
    {
      "cell_type": "code",
      "metadata": {
        "id": "5epb2cO5NQei"
      },
      "source": [
        "from matplotlib.colors import ListedColormap\n",
        "import matplotlib.pyplot as plt\n",
        "\n",
        "def plot_decision_regions(X, y, classifier, test_idx=None, resolution=0.02):\n",
        "\n",
        "    # setup marker generator and color map\n",
        "    markers = ('s', 'x', 'o', '^', 'v')\n",
        "    colors = ('red', 'blue', 'lightgreen', 'gray', 'cyan')\n",
        "    cmap = ListedColormap(colors[:len(np.unique(y))])\n",
        "\n",
        "    # plot the decision surface\n",
        "    x1_min, x1_max = X[:, 0].min() - 1, X[:, 0].max() + 1\n",
        "    x2_min, x2_max = X[:, 1].min() - 1, X[:, 1].max() + 1\n",
        "    xx1, xx2 = np.meshgrid(np.arange(x1_min, x1_max, resolution),\n",
        "                           np.arange(x2_min, x2_max, resolution))\n",
        "    Z = classifier.predict(np.array([xx1.ravel(), xx2.ravel()]).T)\n",
        "    Z = Z.reshape(xx1.shape)\n",
        "    plt.contourf(xx1, xx2, Z, alpha=0.4, cmap=cmap)\n",
        "    plt.xlim(xx1.min(), xx1.max())\n",
        "    plt.ylim(xx2.min(), xx2.max())\n",
        "\n",
        "    for idx, cl in enumerate(np.unique(y)):\n",
        "        plt.scatter(x=X[y == cl, 0], y=X[y == cl, 1],\n",
        "                    alpha=0.8, c=cmap(idx),\n",
        "                    marker=markers[idx], label=cl)"
      ],
      "execution_count": null,
      "outputs": []
    },
    {
      "cell_type": "code",
      "metadata": {
        "id": "u5eh4GyBMuZc"
      },
      "source": [
        "plot_decision_regions(feat_val, validation_datagen.labels, xb)"
      ],
      "execution_count": null,
      "outputs": []
    },
    {
      "cell_type": "markdown",
      "metadata": {
        "id": "rWULS7Z5Aysy"
      },
      "source": [
        "# Random Forest Classifier"
      ]
    },
    {
      "cell_type": "code",
      "metadata": {
        "id": "euKRH8Lpvvr7"
      },
      "source": [
        "from sklearn.ensemble import RandomForestClassifier\n",
        "rclf = RandomForestClassifier(n_estimators=30, min_samples_leaf=10, min_samples_split=10, max_features=0.5 ,n_jobs=-1)"
      ],
      "execution_count": null,
      "outputs": []
    },
    {
      "cell_type": "code",
      "metadata": {
        "colab": {
          "base_uri": "https://localhost:8080/"
        },
        "id": "63Vh12l9v0VR",
        "outputId": "d2853f59-36eb-40a4-d4f5-6a0b23adfd98"
      },
      "source": [
        "rclf.fit(feat_val, validation_datagen.labels)"
      ],
      "execution_count": null,
      "outputs": [
        {
          "output_type": "execute_result",
          "data": {
            "text/plain": [
              "RandomForestClassifier(bootstrap=True, ccp_alpha=0.0, class_weight=None,\n",
              "                       criterion='gini', max_depth=None, max_features=0.5,\n",
              "                       max_leaf_nodes=None, max_samples=None,\n",
              "                       min_impurity_decrease=0.0, min_impurity_split=None,\n",
              "                       min_samples_leaf=10, min_samples_split=10,\n",
              "                       min_weight_fraction_leaf=0.0, n_estimators=30, n_jobs=-1,\n",
              "                       oob_score=False, random_state=None, verbose=0,\n",
              "                       warm_start=False)"
            ]
          },
          "metadata": {
            "tags": []
          },
          "execution_count": 17
        }
      ]
    },
    {
      "cell_type": "code",
      "metadata": {
        "id": "hl-yNoyuwAGT"
      },
      "source": [
        "from sklearn.metrics import accuracy_score, recall_score, confusion_matrix\n",
        "y_pred = rclf.predict(validation_datagen)\n",
        "print(len(validation_datagen.class_indices))\n",
        "\n",
        "print(accuracy_score(validation_datagen.class_indices, y_pred))\n",
        "print(recall_score(validation_datagen.class_indices, y_pred))\n",
        "print(confusion_matrix(validation_datagen.class_indices, y_pred))"
      ],
      "execution_count": null,
      "outputs": []
    },
    {
      "cell_type": "markdown",
      "metadata": {
        "id": "hwgFeuPxA33T"
      },
      "source": [
        "# Decision Tree Classifier"
      ]
    },
    {
      "cell_type": "code",
      "metadata": {
        "id": "xBCQlM2CBvJF"
      },
      "source": [
        "from sklearn.tree import DecisionTreeClassifier\n",
        "\n",
        "clf = DecisionTreeClassifier()\n",
        "\n",
        "# Train Decision Tree Classifer\n",
        "clf = clf.fit(feat_train, train_datagen.labels)\n",
        "\n",
        "#Predict the response for test dataset\n",
        "y_pred = clf.predict(validation_datagen)"
      ],
      "execution_count": null,
      "outputs": []
    },
    {
      "cell_type": "code",
      "metadata": {
        "colab": {
          "base_uri": "https://localhost:8080/"
        },
        "id": "vvyDH6roGFrN",
        "outputId": "01cdade0-d7e2-4261-891c-c3dc0ddd2abe"
      },
      "source": [
        "y_pred"
      ],
      "execution_count": null,
      "outputs": [
        {
          "output_type": "execute_result",
          "data": {
            "text/plain": [
              "array([4, 4, 1, 0, 0, 3, 0, 1, 2, 1, 2, 3, 2, 2, 0, 0, 1, 4, 4, 2, 1, 2,\n",
              "       1, 4, 2, 4, 1, 1, 1, 1, 2, 4, 0, 0, 0, 4, 3, 4, 3, 3, 2, 1, 0, 4,\n",
              "       2, 0, 2, 3, 2, 1, 0, 1, 1, 0, 1, 3, 0, 0, 3, 4, 4, 4, 1, 3, 1, 4,\n",
              "       0, 3, 1, 0, 0, 0, 0, 4, 1, 0, 3, 0, 0, 1, 4, 1, 4, 1, 1, 4, 0, 0,\n",
              "       3, 1, 3, 4, 4, 2, 2, 1, 3, 1, 2, 4, 0, 4, 3, 1, 0, 2, 0, 0, 3, 4,\n",
              "       2, 2, 1, 2, 3, 0, 4, 0, 1, 2, 2, 4, 0, 2, 0, 2, 4, 1, 0, 4, 3, 4,\n",
              "       4, 0, 4, 1, 3, 4, 4, 2, 1, 2, 2, 2, 2, 3, 3, 4, 2, 4, 2, 4, 0, 1,\n",
              "       1, 1, 0, 0, 0, 0, 0, 3, 1, 3, 4, 0, 0, 1, 1, 2, 1, 3, 4, 1, 0, 2,\n",
              "       0, 0, 4, 3, 3, 3, 1, 2, 2, 2, 3, 2, 0, 2, 1, 1, 4, 1, 4, 3, 4, 0,\n",
              "       3, 2, 4, 2, 1, 1, 0, 2, 4, 3, 2, 4, 3, 2, 2, 1, 2, 2, 4, 4, 1, 0,\n",
              "       1, 4, 0, 3, 4, 0, 2, 4, 3, 2, 0, 4, 1, 1, 2, 1, 1, 1, 2, 4, 4, 2,\n",
              "       0, 0, 4, 2, 4, 2, 1, 4, 3, 2, 1, 2, 1, 0, 2, 0, 0, 1, 2, 1, 2, 2,\n",
              "       1, 0, 0, 0, 0, 0, 4, 3, 0, 0, 3, 0, 4, 3, 3, 1, 2, 3, 0, 4, 0, 0,\n",
              "       0, 2, 2, 2, 0, 2, 0, 4, 3, 2, 3, 1, 1, 1, 3, 0, 3, 4, 2, 0, 0, 1,\n",
              "       0, 4, 0, 3, 4, 4, 2, 3, 0, 4, 3, 3, 1, 3, 0, 2, 2, 0, 1, 2, 0, 4,\n",
              "       3, 2, 0, 4, 2, 4, 4, 3, 4, 3, 3, 0, 3, 0, 2, 2, 2, 2, 4, 4, 2, 1,\n",
              "       1, 4, 0, 0, 1, 2, 1, 1, 4, 2, 0, 4, 1, 2, 0, 3, 0, 4, 2, 1, 4, 0,\n",
              "       1, 1, 2, 3, 1, 3, 2, 0, 0, 3, 3, 4, 4, 0, 2, 3, 2, 4, 1, 1, 2, 3,\n",
              "       3, 0, 3, 1, 3, 0, 3, 0, 2, 2, 4, 4], dtype=int32)"
            ]
          },
          "metadata": {
            "tags": []
          },
          "execution_count": 16
        }
      ]
    },
    {
      "cell_type": "code",
      "metadata": {
        "colab": {
          "base_uri": "https://localhost:8080/"
        },
        "id": "6sbJBs-zBwJE",
        "outputId": "6fff1fc2-7bc2-4a2c-f1f8-70a2a96430a4"
      },
      "source": [
        "from sklearn import metrics #Import scikit-learn metrics module for accuracy calculation\n",
        "from sklearn.metrics import accuracy_score\n",
        "\n",
        "#print(\"Accuracy:\", metrics.accuracy_score(y_test, feat_val))\n",
        "#print('Model accuracy score with criterion gini index: {0:0.4f}'. format(accuracy_score(y_test, y_pred_gini)))\n",
        "print('Training-set accuracy score: {0:0.4f}'. format(accuracy_score(validation_datagen.labels, y_pred)))"
      ],
      "execution_count": null,
      "outputs": [
        {
          "output_type": "stream",
          "text": [
            "Training-set accuracy score: 0.1814\n"
          ],
          "name": "stdout"
        }
      ]
    },
    {
      "cell_type": "code",
      "metadata": {
        "colab": {
          "base_uri": "https://localhost:8080/"
        },
        "id": "hfhjoWA8B0QF",
        "outputId": "f3c07c0b-7c50-4e6c-cf70-235c15857412"
      },
      "source": [
        "x_pred = clf.predict(feat_train)\n",
        "print('Training-set accuracy score: {0:0.4f}'. format(accuracy_score(train_datagen.labels, x_pred)))"
      ],
      "execution_count": null,
      "outputs": [
        {
          "output_type": "stream",
          "text": [
            "Training-set accuracy score: 0.9980\n"
          ],
          "name": "stdout"
        }
      ]
    },
    {
      "cell_type": "code",
      "metadata": {
        "id": "dDWRntOEL5me"
      },
      "source": [
        "from sklearn.tree import DecisionTreeClassifier\n",
        "\n",
        "# instantiate the DecisionTreeClassifier model with criterion gini index\n",
        "\n",
        "clf_gini = DecisionTreeClassifier(criterion='gini', max_depth=3, random_state=0)\n",
        "\n",
        "clf_gini.fit(train_datagen, train_datagen.labels)\n",
        "\n",
        "y_pred_gini = clf_gini.predict(feat_val)"
      ],
      "execution_count": null,
      "outputs": []
    },
    {
      "cell_type": "code",
      "metadata": {
        "id": "Cswbrro-NNCH"
      },
      "source": [
        "from sklearn.metrics import accuracy_score\n",
        "\n",
        "print('Model accuracy score with criterion gini index: {0:0.4f}'. format(accuracy_score(validation_datagen.labels, y_pred_gini)))\n",
        "print('Training-set accuracy score: {0:0.4f}'. format(accuracy_score(train_datagen.labels, y_pred_train_gini)))"
      ],
      "execution_count": null,
      "outputs": []
    },
    {
      "cell_type": "markdown",
      "metadata": {
        "id": "c9B3TmVlA7lU"
      },
      "source": [
        "# Gaussian Naive Bayes"
      ]
    },
    {
      "cell_type": "code",
      "metadata": {
        "colab": {
          "base_uri": "https://localhost:8080/"
        },
        "id": "VKr0Z0jAA_5w",
        "outputId": "9a5f571d-a87a-4655-ffb1-60f360774ef6"
      },
      "source": [
        "from sklearn.naive_bayes import GaussianNB \n",
        "gnbmodel = GaussianNB().fit(feat_train, train_datagen.labels) \n",
        "\n",
        "#submission_gnb = gnbmodel.predict(validation_datagen) \n",
        "gnbmodel.score(feat_val, validation_datagen.labels)"
      ],
      "execution_count": null,
      "outputs": [
        {
          "output_type": "execute_result",
          "data": {
            "text/plain": [
              "0.06862745098039216"
            ]
          },
          "metadata": {
            "tags": []
          },
          "execution_count": 10
        }
      ]
    },
    {
      "cell_type": "code",
      "metadata": {
        "colab": {
          "base_uri": "https://localhost:8080/",
          "height": 35
        },
        "id": "BlB3gMCc-PyO",
        "outputId": "55b3ccde-9c1d-4221-d16d-5a8702c088f8"
      },
      "source": [
        "\"Trained Model for {} epochs, train accuracy: {:5.2f}%, test accuracy: {:5.2f}%\".format(2, 100*train_accuracy, 100*accuracy)"
      ],
      "execution_count": null,
      "outputs": [
        {
          "output_type": "execute_result",
          "data": {
            "application/vnd.google.colaboratory.intrinsic+json": {
              "type": "string"
            },
            "text/plain": [
              "'Trained Model for 2 epochs, train accuracy: 99.88%, test accuracy: 94.85%'"
            ]
          },
          "metadata": {
            "tags": []
          },
          "execution_count": 24
        }
      ]
    },
    {
      "cell_type": "code",
      "metadata": {
        "id": "XfWrZdZD_6bU"
      },
      "source": [
        "import numpy as np\n",
        "import matplotlib.pyplot as plt\n",
        "\n",
        "from scipy.interpolate import make_interp_spline, BSpline\n",
        "\n",
        "def Res_Plot_Test_Save(name):\n",
        "    print(\"[INFO] Plotting model accuracy and Loss\")\n",
        "    acc = history.history['accuracy']\n",
        "    val_acc = history.history['val_accuracy']\n",
        "    \n",
        "    loss = history.history['loss']\n",
        "    val_loss = history.history['val_loss']\n",
        "    \n",
        "    epochs = np.array(range(1, 51))\n",
        "    #epochs = np.array([1, 2,3,4,5,6,7,8,9,10,11,12,13,14,15,16,17,18,19,20])\n",
        "    epochs_new = np.linspace(epochs.min(), epochs.max(), 200)\n",
        "    acc = np.array(acc)\n",
        "    spl = make_interp_spline(epochs, acc, k=3)\n",
        "    y1_smooth = spl(epochs_new)\n",
        "    val_acc = np.array(val_acc)\n",
        "    spl = make_interp_spline(epochs, val_acc, k=3)\n",
        "    y2_smooth = spl(epochs_new)\n",
        "    \n",
        "    #Train and validation accuracy\n",
        "    #plt.plot(epochs, acc, 'b', label='Training accurarcy')\n",
        "    #plt.plot(epochs, val_acc, 'r', label='Validation accurarcy')\n",
        "    plt.plot(epochs_new, y1_smooth, 'c', label='Training accurarcy')\n",
        "    plt.plot(epochs_new, y2_smooth, 'm', label='Validation accurarcy')\n",
        "    plt.title('Training and Validation accurarcy')\n",
        "    plt.legend()\n",
        "\n",
        "    loss = np.array(loss)\n",
        "    spl = make_interp_spline(epochs, loss, k=3)\n",
        "    y1_smooth = spl(epochs_new)\n",
        "    val_acc = np.array(val_loss)\n",
        "    spl = make_interp_spline(epochs, val_loss, k=3)\n",
        "    y2_smooth = spl(epochs_new)\n",
        "    plt.figure()\n",
        "    #Train and validation loss\n",
        "    plt.plot(epochs_new, y1_smooth, 'c', label='Training loss')\n",
        "    plt.plot(epochs_new, y2_smooth, 'm', label='Validation loss')\n",
        "    plt.title('Training and Validation loss')\n",
        "    plt.legend()\n",
        "    plt.show()\n",
        "    \n",
        "    print(\"[INFO] Calculating model accuracy\")\n",
        "    scores = model.evaluate(validation_datagen)\n",
        "    print(f\"Test Accuracy: {scores[1]*100}\")\n",
        "    \n",
        "    #print(\"[INFO] Saving model\")\n",
        "    #model.save('/content/drive/MyDrive/Model/classification_model/'+ name)"
      ],
      "execution_count": null,
      "outputs": []
    },
    {
      "cell_type": "code",
      "metadata": {
        "colab": {
          "base_uri": "https://localhost:8080/",
          "height": 614
        },
        "id": "KmcXOzxI_9Y4",
        "outputId": "c8d8e91d-d2eb-4566-bf6f-0cd0fe019877"
      },
      "source": [
        "Res_Plot_Test_Save('penta_CNN_Algorithm.h5')"
      ],
      "execution_count": null,
      "outputs": [
        {
          "output_type": "stream",
          "text": [
            "[INFO] Plotting model accuracy and Loss\n"
          ],
          "name": "stdout"
        },
        {
          "output_type": "display_data",
          "data": {
            "image/png": "[encoded data removed]",
            "text/plain": [
              "<Figure size 432x288 with 1 Axes>"
            ]
          },
          "metadata": {
            "tags": [],
            "needs_background": "light"
          }
        },
        {
          "output_type": "display_data",
          "data": {
            "image/png": "[encoded data removed]",
            "text/plain": [
              "<Figure size 432x288 with 1 Axes>"
            ]
          },
          "metadata": {
            "tags": [],
            "needs_background": "light"
          }
        },
        {
          "output_type": "stream",
          "text": [
            "[INFO] Calculating model accuracy\n",
            "408/408 [==============================] - 14s 33ms/step - loss: 0.3991 - accuracy: 0.9632\n",
            "Test Accuracy: 96.32353186607361\n"
          ],
          "name": "stdout"
        }
      ]
    },
    {
      "cell_type": "code",
      "metadata": {
        "colab": {
          "base_uri": "https://localhost:8080/"
        },
        "id": "7IfM3Xh3-Rvq",
        "outputId": "094dc7d0-7d59-4616-d4d4-1e05129b3f8f"
      },
      "source": [
        "from sklearn.metrics import confusion_matrix\n",
        "import numpy as np\n",
        "Y_pred = model.predict(validation_datagen)\n",
        "y_pred = np.argmax(Y_pred, axis=1)\n",
        "print('Confusion Matrix')\n",
        "matrix=confusion_matrix(validation_datagen.classes, y_pred)\n",
        "print(matrix)"
      ],
      "execution_count": null,
      "outputs": [
        {
          "output_type": "stream",
          "text": [
            "Confusion Matrix\n",
            "[[ 52   0   4   0   0]\n",
            " [  0  37   1   1   0]\n",
            " [  1   0  84   4   0]\n",
            " [  3   0   0  73   0]\n",
            " [  6   1   0   0 141]]\n"
          ],
          "name": "stdout"
        }
      ]
    },
    {
      "cell_type": "code",
      "metadata": {
        "colab": {
          "base_uri": "https://localhost:8080/",
          "height": 441
        },
        "id": "grnvENOC-UW0",
        "outputId": "0d8bbd46-76a4-43c3-bc63-40a2d148ac4d"
      },
      "source": [
        "import matplotlib.pyplot as plt \n",
        "labels=['Healthy leaf','Leaf minor','Cercospora spot','Phoma','Leaf rust']\n",
        "import seaborn as sns\n",
        "figure = plt.figure(figsize=(6, 6))\n",
        "sns.heatmap(matrix,annot=True,cmap=plt.cm.Greens,xticklabels=labels,yticklabels=labels)\n",
        "plt.tight_layout()\n",
        "plt.show()"
      ],
      "execution_count": null,
      "outputs": [
        {
          "output_type": "display_data",
          "data": {
            "image/png": "[encoded data removed]",
            "text/plain": [
              "<Figure size 432x432 with 2 Axes>"
            ]
          },
          "metadata": {
            "tags": []
          }
        }
      ]
    },
    {
      "cell_type": "code",
      "metadata": {
        "id": "QHsxmyzi-WqN"
      },
      "source": [
        ""
      ],
      "execution_count": null,
      "outputs": []
    }
  ]
}